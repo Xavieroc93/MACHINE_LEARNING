{
 "cells": [
  {
   "cell_type": "markdown",
   "id": "d8222379-db06-46a4-b680-11f87e568fe4",
   "metadata": {},
   "source": [
    "**Procesamos HTML**"
   ]
  },
  {
   "cell_type": "code",
   "execution_count": null,
   "id": "bfa7ac3a-867f-416a-9e44-e14936600e02",
   "metadata": {},
   "outputs": [],
   "source": []
  },
  {
   "cell_type": "code",
   "execution_count": 91,
   "id": "3c5f73f7-5d5c-470c-9ef8-b322b202a165",
   "metadata": {},
   "outputs": [],
   "source": [
    "from html.parser import HTMLParser\n",
    "\n",
    "class MLStripper(HTMLParser):\n",
    "    def __init__(self):\n",
    "        self.reset()\n",
    "        self.strict = False\n",
    "        self.convert_charrefs = True\n",
    "        self.fed = []\n",
    "    def handle_data(self,d):\n",
    "        self.fed.append(d)\n",
    "    def get_data(self):\n",
    "        return \"\".join(self.fed)"
   ]
  },
  {
   "cell_type": "code",
   "execution_count": 92,
   "id": "43ee950b-854f-46ff-81e3-8dca01bb2925",
   "metadata": {},
   "outputs": [],
   "source": [
    "def strip_tags(html):\n",
    "    s = MLStripper()\n",
    "    s.feed(html)\n",
    "    return s.get_data()"
   ]
  },
  {
   "cell_type": "code",
   "execution_count": 93,
   "id": "881d5c71-2b68-4896-a5f6-67fc5001b635",
   "metadata": {},
   "outputs": [
    {
     "name": "stdout",
     "output_type": "stream",
     "text": [
      "\n",
      "\n",
      "\n",
      "  HTML\n",
      "\n",
      "\n",
      "\n",
      "  Esta página web es una página HTML válida.\n",
      "\n",
      "\n",
      "\n"
     ]
    }
   ],
   "source": [
    "#cadena HTML\n",
    "t = \"\"\"<html>\n",
    "\n",
    "<head>\n",
    "  <title>HTML</title>\n",
    "</head>\n",
    "\n",
    "<body>\n",
    "  <p>Esta página web es una página HTML válida.</p>\n",
    "</body>\n",
    "\n",
    "</html>\"\"\"\n",
    "\n",
    "#cadena sin etiquetas\n",
    "print(strip_tags(t))"
   ]
  },
  {
   "cell_type": "markdown",
   "id": "df603a9f-c3e3-4cd2-826e-1a80f7f5fa3c",
   "metadata": {},
   "source": [
    "**Procesamiento del Lenguaje Natural (NLTK)**"
   ]
  },
  {
   "cell_type": "markdown",
   "id": "95285b3a-b1e3-47ab-9713-502d575d319f",
   "metadata": {},
   "source": [
    "*NLTK: Biblioteca de Python que proporciona herramientas y recursps para trabajar con texto, análisis, manipulación y procesar\n",
    "datos linguisticos, se usa para desarrollar sistemas que entiendan, interpreten y generen lenguaje humano.*"
   ]
  },
  {
   "cell_type": "markdown",
   "id": "28fa6056-246b-4430-b251-a6c79794c0de",
   "metadata": {},
   "source": [
    "**Aplicaciones**"
   ]
  },
  {
   "cell_type": "markdown",
   "id": "e0d8a35b-5f49-4dc5-a81c-b3a5d3d91d97",
   "metadata": {},
   "source": [
    "*-Análisis de sentimientos: Determinar si una opinión es negativa, positiva o neutral*"
   ]
  },
  {
   "cell_type": "markdown",
   "id": "c5ff1633-c73e-446c-8349-b044f252590b",
   "metadata": {},
   "source": [
    "*-Sistemas de recomendación: Basados en la interpretación del texto*"
   ]
  },
  {
   "cell_type": "markdown",
   "id": "35120117-6f85-45f3-828b-e24b2f7c7e8f",
   "metadata": {},
   "source": [
    "*-Chatbots: Procesamiento y respuestas a entradas a entradas y textos del usuario*"
   ]
  },
  {
   "cell_type": "markdown",
   "id": "90d70484-7a2e-42be-ac77-ae050bdbc546",
   "metadata": {},
   "source": [
    "*-Extracción de información: Encontrar información relevante dentro de grandes volúmenes de texto*"
   ]
  },
  {
   "cell_type": "markdown",
   "id": "eaf66cc6-cad1-445b-9aa4-257fd52000b5",
   "metadata": {},
   "source": [
    "**Características**"
   ]
  },
  {
   "cell_type": "markdown",
   "id": "2651c2c1-a8a0-4ff0-819a-56bf7a0c80a4",
   "metadata": {},
   "source": [
    "**1. Tokenización**"
   ]
  },
  {
   "cell_type": "markdown",
   "id": "54e10dfe-dbfe-4119-8fa5-bd938c323f80",
   "metadata": {},
   "source": [
    "*Dividir texto en palabras, oraciones u otros elementos más pequeños, Ejemplo: convertir un párrafo en una lista de palabras.*"
   ]
  },
  {
   "cell_type": "code",
   "execution_count": 94,
   "id": "f2c60efa-1d14-4f10-b17d-bcd02ef2bb8d",
   "metadata": {},
   "outputs": [
    {
     "name": "stdout",
     "output_type": "stream",
     "text": [
      "['I', 'love', 'eating', 'pizza', 'with', 'my', 'friends']\n"
     ]
    },
    {
     "name": "stderr",
     "output_type": "stream",
     "text": [
      "[nltk_data] Downloading package punkt to\n",
      "[nltk_data]     C:\\Users\\xavie\\AppData\\Roaming\\nltk_data...\n",
      "[nltk_data]   Package punkt is already up-to-date!\n"
     ]
    }
   ],
   "source": [
    "#!pip install nltk\n",
    "import nltk\n",
    "nltk.download(\"punkt\")\n",
    "text = \"I love eating pizza with my friends\"\n",
    "words = nltk.word_tokenize(text)\n",
    "print(words)"
   ]
  },
  {
   "cell_type": "markdown",
   "id": "db94ac21-c4fd-44cb-930f-442d7b78482e",
   "metadata": {},
   "source": [
    "**2. Stemming**"
   ]
  },
  {
   "cell_type": "markdown",
   "id": "a659caad-7f53-49d2-8dac-b6dcf2d12959",
   "metadata": {},
   "source": [
    "*Reducción de las palabras a su raíz o forma base (\"running\" -> \"run\" )*"
   ]
  },
  {
   "cell_type": "code",
   "execution_count": 95,
   "id": "33dea0c8-ea55-4406-9da8-d0fa5ab97f30",
   "metadata": {},
   "outputs": [
    {
     "name": "stdout",
     "output_type": "stream",
     "text": [
      "['I', 'love', 'eating', 'pizza', 'with', 'my', 'friends']\n",
      "['i', 'love', 'eat', 'pizza', 'with', 'my', 'friend']\n"
     ]
    },
    {
     "name": "stderr",
     "output_type": "stream",
     "text": [
      "[nltk_data] Downloading package punkt to\n",
      "[nltk_data]     C:\\Users\\xavie\\AppData\\Roaming\\nltk_data...\n",
      "[nltk_data]   Package punkt is already up-to-date!\n"
     ]
    }
   ],
   "source": [
    "import nltk\n",
    "from nltk.stem import PorterStemmer\n",
    "\n",
    "nltk.download(\"punkt\")\n",
    "text = \"I love eating pizza with my friends\"\n",
    "words = nltk.word_tokenize(text)\n",
    "print(words)\n",
    "\n",
    "stemmer = PorterStemmer()\n",
    "stemmer_word = [stemmer.stem(word) for word in words]\n",
    "print(stemmer_word)"
   ]
  },
  {
   "cell_type": "markdown",
   "id": "c4ce07c8-4d38-430c-8654-ce0463085b48",
   "metadata": {},
   "source": [
    "**3. StopWords**"
   ]
  },
  {
   "cell_type": "markdown",
   "id": "3d95a9e9-a59d-42b9-86a0-f415d118ba99",
   "metadata": {},
   "source": [
    "*Palabras comunes que se consideran poco informativas para el análisis de texto, como \"y\", \"el\", \"a\" en español o \"the\", \"is\", \"in\" en ingles\n",
    "a menudo estas palabras se eliminan del texto durante el preprocesamiento.*"
   ]
  },
  {
   "cell_type": "code",
   "execution_count": 96,
   "id": "766307e2-7fb9-4be3-b362-96ed95d0100b",
   "metadata": {},
   "outputs": [
    {
     "name": "stdout",
     "output_type": "stream",
     "text": [
      "['I', 'love', 'eating', 'pizza', 'with', 'my', 'friends']\n",
      "['love', 'eating', 'pizza', 'friends']\n"
     ]
    },
    {
     "name": "stderr",
     "output_type": "stream",
     "text": [
      "[nltk_data] Downloading package punkt to\n",
      "[nltk_data]     C:\\Users\\xavie\\AppData\\Roaming\\nltk_data...\n",
      "[nltk_data]   Package punkt is already up-to-date!\n",
      "[nltk_data] Downloading package stopwords to\n",
      "[nltk_data]     C:\\Users\\xavie\\AppData\\Roaming\\nltk_data...\n",
      "[nltk_data]   Package stopwords is already up-to-date!\n"
     ]
    }
   ],
   "source": [
    "import nltk\n",
    "from nltk.corpus import stopwords\n",
    "\n",
    "nltk.download(\"punkt\")\n",
    "nltk.download(\"stopwords\")\n",
    "\n",
    "text = \"I love eating pizza with my friends\"\n",
    "words = nltk.word_tokenize(text)\n",
    "print(words)\n",
    "\n",
    "english_words = stopwords.words(\"english\")\n",
    "#print(english_words)\n",
    "filtered_words = [ word for word in words if word.lower() not in english_words]\n",
    "print(filtered_words)"
   ]
  },
  {
   "cell_type": "markdown",
   "id": "7f949401-e83e-4301-bdbd-221e5f4a7ac2",
   "metadata": {},
   "source": [
    "**Caracteres especiales**"
   ]
  },
  {
   "cell_type": "code",
   "execution_count": 97,
   "id": "0b996b03-ca63-485a-b8eb-c4bc1064c23e",
   "metadata": {},
   "outputs": [
    {
     "data": {
      "text/plain": [
       "'!\"#$%&\\'()*+,-./:;<=>?@[\\\\]^_`{|}~'"
      ]
     },
     "execution_count": 97,
     "metadata": {},
     "output_type": "execute_result"
    }
   ],
   "source": [
    "import string\n",
    "string.punctuation"
   ]
  },
  {
   "cell_type": "code",
   "execution_count": 98,
   "id": "5eb360a3-5478-488d-b812-1e3f1b32f9eb",
   "metadata": {},
   "outputs": [
    {
     "name": "stdout",
     "output_type": "stream",
     "text": [
      "['!', '\"', '#', '$', '%', '&', \"'\", '(', ')', '*', '+', ',', '-', '.', '/', ':', ';', '<', '=', '>', '?', '@', '[', '\\\\', ']', '^', '_', '`', '{', '|', '}', '~']\n"
     ]
    }
   ],
   "source": [
    "import string\n",
    "class TextProcessor:\n",
    "    def __init__(self):\n",
    "        self.punctuation = string.punctuation\n",
    "\n",
    "processor = TextProcessor()\n",
    "print(list(processor.punctuation))"
   ]
  },
  {
   "cell_type": "markdown",
   "id": "347706f5-f8e8-4c19-b9e7-6d0124ec536c",
   "metadata": {},
   "source": [
    "**Email**"
   ]
  },
  {
   "cell_type": "code",
   "execution_count": 99,
   "id": "0e8e1043-18fb-49c0-871d-7c9410c9155e",
   "metadata": {},
   "outputs": [
    {
     "name": "stdout",
     "output_type": "stream",
     "text": [
      "Remitente:  sender@example.com\n",
      "Destinatario:  recipient@example.com\n",
      "Asunto:  Ejemplo de Correo\n",
      "Cuerpo del mensaje:  Hola,\n",
      "\n",
      "Este es un ejemplo de correo electrÃ³nico.\n",
      "\n",
      "Saludos,\n",
      "Remitente\n",
      "text/plain\n"
     ]
    }
   ],
   "source": [
    "import email\n",
    "with open(\"ejemplo_correo.txt\",\"r\") as file:\n",
    "    email_content = file.read()\n",
    "msg = email.message_from_string(email_content)\n",
    "#print(msg)\n",
    "\n",
    "from_address = msg[\"FROM\"]\n",
    "to_address = msg[\"To\"]\n",
    "subject = msg[\"Subject\"]\n",
    "body = msg.get_payload()\n",
    "\n",
    "#mostrar información\n",
    "print(\"Remitente: \", from_address)\n",
    "print(\"Destinatario: \", to_address)\n",
    "print(\"Asunto: \", subject)\n",
    "print(\"Cuerpo del mensaje: \", body)\n",
    "print(msg.get_content_type())"
   ]
  },
  {
   "cell_type": "markdown",
   "id": "9980739e-5294-4c9a-a25b-fc79bcd49425",
   "metadata": {},
   "source": [
    "**Código de preprocesamiento**"
   ]
  },
  {
   "cell_type": "markdown",
   "id": "d5dd947f-5aae-46a6-a7d4-3ba2c3ba55c4",
   "metadata": {},
   "source": [
    "*Elimina HTML, tokeniza, reduce a raiz y quita palabras vacias*"
   ]
  },
  {
   "cell_type": "code",
   "execution_count": 100,
   "id": "c845082c-fefe-4542-a084-91b60105ece6",
   "metadata": {},
   "outputs": [],
   "source": [
    "from html.parser import HTMLParser\n",
    "\n",
    "class MLStripper(HTMLParser):\n",
    "    def __init__(self):\n",
    "        self.reset()\n",
    "        self.strict = False\n",
    "        self.convert_charrefs = True\n",
    "        self.fed = []\n",
    "    def handle_data(self,d):\n",
    "        self.fed.append(d)\n",
    "    def get_data(self):\n",
    "        return \"\".join(self.fed)"
   ]
  },
  {
   "cell_type": "code",
   "execution_count": 101,
   "id": "c0ef56a8-b621-4f52-b7f8-e0f3774e87ce",
   "metadata": {},
   "outputs": [],
   "source": [
    "def strip_tags(html):\n",
    "    s = MLStripper()\n",
    "    s.feed(html)\n",
    "    return s.get_data()"
   ]
  },
  {
   "cell_type": "code",
   "execution_count": 102,
   "id": "8469c1b8-4915-44e6-b1a7-8161256046d0",
   "metadata": {},
   "outputs": [],
   "source": [
    "import email\n",
    "import string\n",
    "import nltk\n",
    "\n",
    "class Parser:\n",
    "    def __init__(self):\n",
    "        self.stemmer = nltk.PorterStemmer() #raiz\n",
    "        self.stopwords = set(nltk.corpus.stopwords.words(\"english\")) #palabras vacías\n",
    "        self.punctuation = list(string.punctuation) #Signos de puntuación\n",
    "    def parser(self,email_path):\n",
    "        with open(email_path, errors = \"ignore\") as e:\n",
    "            msg = email.message_from_file(e)\n",
    "        return None if not msg else self.get_email_content(msg)\n",
    "    def get_email_content(self,msg):\n",
    "        \"\"\"Extrae el contenido del EMAIL\"\"\"\n",
    "        subject = self.tokenize(msg[\"subject\"] if msg[\"subject\"] else [])\n",
    "        body = self.get_email_body(msg.get_payload(), msg.get_content_type())\n",
    "        content_type = msg.get_content_type()\n",
    "        return {\n",
    "                 \"Subject\": subject,\n",
    "                 \"body\": body,\n",
    "                 \"content_type\": content_type\n",
    "                }\n",
    "    def tokenize(self,text):\n",
    "        for c in self.punctuation:\n",
    "            text = text.replace(c,\"\")\n",
    "        text = text.replace(\"\\t\",\" \")\n",
    "        text = text.replace(\"\\n\",\" \")\n",
    "        tokens = list(filter(None,text.split(\" \")))\n",
    "        return [self.stemmer.stem(w) for w in tokens if w not in self.stopwords]\n",
    "    def get_email_body(self,payload,content_type):\n",
    "        \"\"\"Extrae el cuerpo\"\"\"\n",
    "        body = []\n",
    "        if type(payload) is str and content_type == \"text/plain\":\n",
    "            return self.tokenize(payload)\n",
    "        elif type(payload) is str and content_type == \"text/html\":\n",
    "            return self.tokenize(strip_tags(payload))\n",
    "        elif type(payload) is list:\n",
    "            for p in payload :\n",
    "                body += self.get_email_body(p.get_payload(),p.get_content_type())               \n",
    "        return body"
   ]
  },
  {
   "cell_type": "markdown",
   "id": "daef6419-a37b-4319-9e18-af76437394b0",
   "metadata": {},
   "source": [
    "**Lectura de correos**"
   ]
  },
  {
   "cell_type": "code",
   "execution_count": 103,
   "id": "f8ce869b-1361-421c-a1c5-f1c4617cffcc",
   "metadata": {},
   "outputs": [
    {
     "name": "stdout",
     "output_type": "stream",
     "text": [
      "From RickyAmes@aol.com  Sun Apr  8 13:07:32 2007\n",
      "Return-Path: <RickyAmes@aol.com>\n",
      "Received: from 129.97.78.23 ([211.202.101.74])\n",
      "\tby speedy.uwaterloo.ca (8.12.8/8.12.5) with SMTP id l38H7G0I003017;\n",
      "\tSun, 8 Apr 2007 13:07:21 -0400\n",
      "Received: from 0.144.152.6 by 211.202.101.74; Sun, 08 Apr 2007 19:04:48 +0100\n",
      "Message-ID: <WYADCKPDFWWTWTXNFVUE@yahoo.com>\n",
      "From: \"Tomas Jacobs\" <RickyAmes@aol.com>\n",
      "Reply-To: \"Tomas Jacobs\" <RickyAmes@aol.com>\n",
      "To: the00@speedy.uwaterloo.ca\n",
      "Subject: Generic Cialis, branded quality@ \n",
      "Date: Sun, 08 Apr 2007 21:00:48 +0300\n",
      "X-Mailer: Microsoft Outlook Express 6.00.2600.0000\n",
      "MIME-Version: 1.0\n",
      "Content-Type: multipart/alternative;\n",
      "\tboundary=\"--8896484051606557286\"\n",
      "X-Priority: 3\n",
      "X-MSMail-Priority: Normal\n",
      "Status: RO\n",
      "Content-Length: 988\n",
      "Lines: 24\n",
      "\n",
      "----8896484051606557286\n",
      "Content-Type: text/html;\n",
      "Content-Transfer-Encoding: 7Bit\n",
      "\n",
      "<html>\n",
      "<body bgcolor=\"#ffffff\">\n",
      "<div style=\"border-color: #00FFFF; border-right-width: 0px; border-bottom-width: 0px; margin-bottom: 0px;\" align=\"center\">\n",
      "<table style=\"border: 1px; border-style: solid; border-color:#000000;\" cellpadding=\"5\" cellspacing=\"0\" bgcolor=\"#CCFFAA\">\n",
      "<tr>\n",
      "<td style=\"border: 0px; border-bottom: 1px; border-style: solid; border-color:#000000;\">\n",
      "<center>\n",
      "Do you feel the pressure to perform and not rising to the occasion??<br>\n",
      "</center>\n",
      "</td></tr><tr>\n",
      "<td bgcolor=#FFFF33 style=\"border: 0px; border-bottom: 1px; border-style: solid; border-color:#000000;\">\n",
      "<center>\n",
      "\n",
      "<b><a href='http://excoriationtuh.com/?lzmfnrdkleks'>Try <span>V</span><span>ia<span></span>gr<span>a</span>.....</a></b></center>\n",
      "</td></tr><td><center>your anxiety will be a thing of the past and you will<br>\n",
      "be back to your old self.\n",
      "</center></td></tr></table></div></body></html>\n",
      "\n",
      "\n",
      "----8896484051606557286--\n",
      "\n",
      "\n"
     ]
    }
   ],
   "source": [
    "cnmail = open(\"datasets\\\\datasets\\\\trec07p\\\\data\\\\inmail.1\").read()\n",
    "print(inmail)"
   ]
  },
  {
   "cell_type": "code",
   "execution_count": 104,
   "id": "579842ca-72c0-4242-92c0-453eb5723950",
   "metadata": {},
   "outputs": [
    {
     "data": {
      "text/plain": [
       "{'Subject': ['gener', 'ciali', 'brand', 'qualiti'],\n",
       " 'body': ['do',\n",
       "  'feel',\n",
       "  'pressur',\n",
       "  'perform',\n",
       "  'rise',\n",
       "  'occas',\n",
       "  'tri',\n",
       "  'viagra',\n",
       "  'anxieti',\n",
       "  'thing',\n",
       "  'past',\n",
       "  'back',\n",
       "  'old',\n",
       "  'self'],\n",
       " 'content_type': 'multipart/alternative'}"
      ]
     },
     "execution_count": 104,
     "metadata": {},
     "output_type": "execute_result"
    }
   ],
   "source": [
    "p = Parser()\n",
    "p.parser(\"datasets\\\\datasets\\\\trec07p\\\\data\\\\inmail.1\")"
   ]
  },
  {
   "cell_type": "code",
   "execution_count": 105,
   "id": "c7fac7f5-20dc-47b6-8812-d8144ed8e7df",
   "metadata": {},
   "outputs": [
    {
     "data": {
      "text/plain": [
       "['spam ../data/inmail.1\\n',\n",
       " 'ham ../data/inmail.2\\n',\n",
       " 'spam ../data/inmail.3\\n',\n",
       " 'spam ../data/inmail.4\\n',\n",
       " 'spam ../data/inmail.5\\n',\n",
       " 'spam ../data/inmail.6\\n',\n",
       " 'spam ../data/inmail.7\\n',\n",
       " 'spam ../data/inmail.8\\n',\n",
       " 'spam ../data/inmail.9\\n',\n",
       " 'ham ../data/inmail.10\\n']"
      ]
     },
     "execution_count": 105,
     "metadata": {},
     "output_type": "execute_result"
    }
   ],
   "source": [
    "#Lectura del indice\n",
    "index = open(\"datasets\\\\datasets\\\\trec07p\\\\full\\\\index\").readlines()\n",
    "index[:10]"
   ]
  },
  {
   "cell_type": "code",
   "execution_count": 106,
   "id": "708ef44d-ac0f-4b60-86ab-016725795306",
   "metadata": {},
   "outputs": [],
   "source": [
    "import os\n",
    "DATASET_PATH = \"datasets\\\\datasets/trec07p\"\n",
    "\n",
    "def parse_index(path_to_index, n_elemento):\n",
    "    ret_indexes = []\n",
    "    index = open(path_to_index).readlines()\n",
    "    for i in range(n_elemento):\n",
    "        mail =  index[i].split(\" ../\")\n",
    "        label = mail[0]\n",
    "        path  = mail[1][:-1]\n",
    "        ret_indexes.append({\"label\":label, \"email_path\": os.path.join(DATASET_PATH,path)})\n",
    "    return ret_indexes"
   ]
  },
  {
   "cell_type": "code",
   "execution_count": 107,
   "id": "8a9ce208-d8db-4983-ab0d-b8c8c07c4271",
   "metadata": {},
   "outputs": [
    {
     "data": {
      "text/plain": [
       "[{'label': 'spam', 'email_path': 'datasets\\\\datasets/trec07p\\\\data/inmail.1'},\n",
       " {'label': 'ham', 'email_path': 'datasets\\\\datasets/trec07p\\\\data/inmail.2'},\n",
       " {'label': 'spam', 'email_path': 'datasets\\\\datasets/trec07p\\\\data/inmail.3'},\n",
       " {'label': 'spam', 'email_path': 'datasets\\\\datasets/trec07p\\\\data/inmail.4'},\n",
       " {'label': 'spam', 'email_path': 'datasets\\\\datasets/trec07p\\\\data/inmail.5'},\n",
       " {'label': 'spam', 'email_path': 'datasets\\\\datasets/trec07p\\\\data/inmail.6'},\n",
       " {'label': 'spam', 'email_path': 'datasets\\\\datasets/trec07p\\\\data/inmail.7'},\n",
       " {'label': 'spam', 'email_path': 'datasets\\\\datasets/trec07p\\\\data/inmail.8'},\n",
       " {'label': 'spam', 'email_path': 'datasets\\\\datasets/trec07p\\\\data/inmail.9'},\n",
       " {'label': 'ham', 'email_path': 'datasets\\\\datasets/trec07p\\\\data/inmail.10'}]"
      ]
     },
     "execution_count": 107,
     "metadata": {},
     "output_type": "execute_result"
    }
   ],
   "source": [
    "indexes = parse_index(\"datasets\\\\datasets\\\\trec07p\\\\full\\\\index\",10)\n",
    "indexes"
   ]
  },
  {
   "cell_type": "code",
   "execution_count": 108,
   "id": "854a096f-ba95-4ad3-8178-3afb6da30b95",
   "metadata": {},
   "outputs": [
    {
     "data": {
      "text/plain": [
       "'From RickyAmes@aol.com  Sun Apr  8 13:07:32 2007\\nReturn-Path: <RickyAmes@aol.com>\\nReceived: from 129.97.78.23 ([211.202.101.74])\\n\\tby speedy.uwaterloo.ca (8.12.8/8.12.5) with SMTP id l38H7G0I003017;\\n\\tSun, 8 Apr 2007 13:07:21 -0400\\nReceived: from 0.144.152.6 by 211.202.101.74; Sun, 08 Apr 2007 19:04:48 +0100\\nMessage-ID: <WYADCKPDFWWTWTXNFVUE@yahoo.com>\\nFrom: \"Tomas Jacobs\" <RickyAmes@aol.com>\\nReply-To: \"Tomas Jacobs\" <RickyAmes@aol.com>\\nTo: the00@speedy.uwaterloo.ca\\nSubject: Generic Cialis, branded quality@ \\nDate: Sun, 08 Apr 2007 21:00:48 +0300\\nX-Mailer: Microsoft Outlook Express 6.00.2600.0000\\nMIME-Version: 1.0\\nContent-Type: multipart/alternative;\\n\\tboundary=\"--8896484051606557286\"\\nX-Priority: 3\\nX-MSMail-Priority: Normal\\nStatus: RO\\nContent-Length: 988\\nLines: 24\\n\\n----8896484051606557286\\nContent-Type: text/html;\\nContent-Transfer-Encoding: 7Bit\\n\\n<html>\\n<body bgcolor=\"#ffffff\">\\n<div style=\"border-color: #00FFFF; border-right-width: 0px; border-bottom-width: 0px; margin-bottom: 0px;\" align=\"center\">\\n<table style=\"border: 1px; border-style: solid; border-color:#000000;\" cellpadding=\"5\" cellspacing=\"0\" bgcolor=\"#CCFFAA\">\\n<tr>\\n<td style=\"border: 0px; border-bottom: 1px; border-style: solid; border-color:#000000;\">\\n<center>\\nDo you feel the pressure to perform and not rising to the occasion??<br>\\n</center>\\n</td></tr><tr>\\n<td bgcolor=#FFFF33 style=\"border: 0px; border-bottom: 1px; border-style: solid; border-color:#000000;\">\\n<center>\\n\\n<b><a href=\\'http://excoriationtuh.com/?lzmfnrdkleks\\'>Try <span>V</span><span>ia<span></span>gr<span>a</span>.....</a></b></center>\\n</td></tr><td><center>your anxiety will be a thing of the past and you will<br>\\nbe back to your old self.\\n</center></td></tr></table></div></body></html>\\n\\n\\n----8896484051606557286--\\n\\n'"
      ]
     },
     "execution_count": 108,
     "metadata": {},
     "output_type": "execute_result"
    }
   ],
   "source": [
    "open(\"datasets\\\\datasets\\\\trec07p\\\\data\\\\inmail.1\").read()"
   ]
  },
  {
   "cell_type": "code",
   "execution_count": 109,
   "id": "cda6f39b-1f6b-4545-a0c4-c2880bc54b1d",
   "metadata": {},
   "outputs": [],
   "source": [
    "def parse_email(index):\n",
    "    p = Parser()\n",
    "    pemail = p.parser(index['email_path'])\n",
    "    return pemail, index['label']"
   ]
  },
  {
   "cell_type": "code",
   "execution_count": 110,
   "id": "540fe2fd-1fd6-406e-97a0-5b2c827fa3ef",
   "metadata": {},
   "outputs": [
    {
     "name": "stdout",
     "output_type": "stream",
     "text": [
      "El correo es:  spam\n",
      "{'Subject': ['gener', 'ciali', 'brand', 'qualiti'], 'body': ['do', 'feel', 'pressur', 'perform', 'rise', 'occas', 'tri', 'viagra', 'anxieti', 'thing', 'past', 'back', 'old', 'self'], 'content_type': 'multipart/alternative'}\n"
     ]
    }
   ],
   "source": [
    "mail,label = parse_email(indexes[0])\n",
    "print(\"El correo es: \", label)\n",
    "print(mail)"
   ]
  },
  {
   "cell_type": "markdown",
   "id": "877ce208-652f-44f6-ac1d-ac27c5da9b35",
   "metadata": {},
   "source": [
    "**CountVectorizer**"
   ]
  },
  {
   "cell_type": "markdown",
   "id": "2cd0b2e0-46f1-4237-a101-4ce98594bfec",
   "metadata": {},
   "source": [
    "*Es una herramienta fundamental en el procesamiento de lenguaje natural, se utiliza para convertir texto sin procesar en datos\n",
    "númericos.*"
   ]
  },
  {
   "cell_type": "markdown",
   "id": "ce3f9522-71da-47f0-b7ad-f2bcf9ab5685",
   "metadata": {},
   "source": [
    "**Para que se utiliza?**"
   ]
  },
  {
   "cell_type": "markdown",
   "id": "f8068e7e-1937-40d3-bd22-5fa2db5e6f5b",
   "metadata": {},
   "source": [
    "**1. Conversión de texto en datos númericos**"
   ]
  },
  {
   "cell_type": "markdown",
   "id": "3407240f-84dd-4548-885f-7b4b4796710d",
   "metadata": {},
   "source": [
    "**2. Extracción de características**"
   ]
  },
  {
   "cell_type": "markdown",
   "id": "a04107d0-42f3-485c-b637-76f32af13e80",
   "metadata": {},
   "source": [
    "**3. Análisis de texto**"
   ]
  },
  {
   "cell_type": "code",
   "execution_count": 111,
   "id": "c7cc0413-261f-489e-8f6b-c776196c0c5f",
   "metadata": {},
   "outputs": [
    {
     "name": "stdout",
     "output_type": "stream",
     "text": [
      "Email ['gener ciali brand qualitido feel pressur perform rise occas tri viagra anxieti thing past back old self']\n",
      "Características de entrada ['anxieti' 'back' 'brand' 'ciali' 'feel' 'gener' 'occas' 'old' 'past'\n",
      " 'perform' 'pressur' 'qualitido' 'rise' 'self' 'thing' 'tri' 'viagra']\n"
     ]
    }
   ],
   "source": [
    "from sklearn.feature_extraction.text import CountVectorizer\n",
    "#Preparar email\n",
    "prep_email = [\" \".join(mail['Subject']) + \" \".join(mail['body'])]\n",
    "vectorizer = CountVectorizer()\n",
    "vectorizer.fit(prep_email)\n",
    "print(\"Email\",prep_email)\n",
    "print(\"Características de entrada\", vectorizer.get_feature_names_out())"
   ]
  },
  {
   "cell_type": "code",
   "execution_count": 112,
   "id": "1e760b52-4070-4bf6-8d84-d612ae0bbc6d",
   "metadata": {},
   "outputs": [
    {
     "name": "stdout",
     "output_type": "stream",
     "text": [
      "[[1 1 1 1 1 1 1 1 1 1 1 1 1 1 1 1 1]]\n"
     ]
    }
   ],
   "source": [
    "x = vectorizer.transform(prep_email)\n",
    "print(x.toarray())"
   ]
  },
  {
   "cell_type": "code",
   "execution_count": 113,
   "id": "5e545cc3-49c6-4cc7-8754-75868f2aa0dd",
   "metadata": {},
   "outputs": [],
   "source": [
    "#Función auxiliar para procesar los datos y para leer una cantidad x de correos\n",
    "def create_prep_dataset(index_path,n_element):\n",
    "    x = []\n",
    "    y = []\n",
    "    indexes = parse_index(index_path,n_element) #{'label': 'spam', 'email_path': 'datasets/trec07p\\\\data/inmail.1'}\n",
    "    for i in range(n_element):\n",
    "        mail,label  = parse_email(indexes[i])\n",
    "        x.append(\" \".join(mail['Subject']) + \" \".join(mail['body']))\n",
    "        y.append(label)\n",
    "    return x,y"
   ]
  },
  {
   "cell_type": "code",
   "execution_count": 150,
   "id": "4242937f-3835-4d88-b076-2d5d05b88e58",
   "metadata": {},
   "outputs": [],
   "source": [
    "x_train, y_train = create_prep_dataset(\"datasets\\\\datasets\\\\trec07p\\\\full\\\\index\",120)\n",
    "#x_train"
   ]
  },
  {
   "cell_type": "code",
   "execution_count": null,
   "id": "674b6c32-4202-44aa-ae5f-e2b9e1f31600",
   "metadata": {},
   "outputs": [],
   "source": [
    "#y_train"
   ]
  },
  {
   "cell_type": "code",
   "execution_count": 130,
   "id": "968a21ff-c627-4886-a8ed-930fb9bd4fbe",
   "metadata": {},
   "outputs": [],
   "source": [
    "#Aplicamos countVectorizer\n",
    "vectorizer = CountVectorizer()\n",
    "X_train = vectorizer.fit_transform(x_train)"
   ]
  },
  {
   "cell_type": "code",
   "execution_count": 131,
   "id": "9c2da28d-b116-4e90-9fd9-ed7ad83c3da1",
   "metadata": {},
   "outputs": [
    {
     "name": "stdout",
     "output_type": "stream",
     "text": [
      "[[0 0 0 ... 0 0 0]\n",
      " [0 0 0 ... 0 0 0]\n",
      " [0 0 0 ... 0 0 0]\n",
      " ...\n",
      " [0 0 0 ... 0 0 0]\n",
      " [0 0 0 ... 0 0 0]\n",
      " [0 0 0 ... 0 0 0]]\n"
     ]
    }
   ],
   "source": [
    "print(X_train.toarray())"
   ]
  },
  {
   "cell_type": "code",
   "execution_count": 132,
   "id": "1cb61881-ab7f-4320-87fd-364628638ef7",
   "metadata": {},
   "outputs": [
    {
     "data": {
      "text/html": [
       "<div>\n",
       "<style scoped>\n",
       "    .dataframe tbody tr th:only-of-type {\n",
       "        vertical-align: middle;\n",
       "    }\n",
       "\n",
       "    .dataframe tbody tr th {\n",
       "        vertical-align: top;\n",
       "    }\n",
       "\n",
       "    .dataframe thead tr th {\n",
       "        text-align: left;\n",
       "    }\n",
       "</style>\n",
       "<table border=\"1\" class=\"dataframe\">\n",
       "  <thead>\n",
       "    <tr>\n",
       "      <th></th>\n",
       "      <th>0000</th>\n",
       "      <th>000000</th>\n",
       "      <th>00085</th>\n",
       "      <th>002</th>\n",
       "      <th>003</th>\n",
       "      <th>00450</th>\n",
       "      <th>0089</th>\n",
       "      <th>009</th>\n",
       "      <th>01</th>\n",
       "      <th>01000u</th>\n",
       "      <th>...</th>\n",
       "      <th>õôõôèõéï</th>\n",
       "      <th>ö¹</th>\n",
       "      <th>öð</th>\n",
       "      <th>öôööµæ</th>\n",
       "      <th>öø³ðåµ</th>\n",
       "      <th>öþ</th>\n",
       "      <th>öˆ</th>\n",
       "      <th>úàí</th>\n",
       "      <th>þîñòµ¼</th>\n",
       "      <th>šè</th>\n",
       "    </tr>\n",
       "  </thead>\n",
       "  <tbody>\n",
       "    <tr>\n",
       "      <th>0</th>\n",
       "      <td>0</td>\n",
       "      <td>0</td>\n",
       "      <td>0</td>\n",
       "      <td>0</td>\n",
       "      <td>0</td>\n",
       "      <td>0</td>\n",
       "      <td>0</td>\n",
       "      <td>0</td>\n",
       "      <td>0</td>\n",
       "      <td>0</td>\n",
       "      <td>...</td>\n",
       "      <td>0</td>\n",
       "      <td>0</td>\n",
       "      <td>0</td>\n",
       "      <td>0</td>\n",
       "      <td>0</td>\n",
       "      <td>0</td>\n",
       "      <td>0</td>\n",
       "      <td>0</td>\n",
       "      <td>0</td>\n",
       "      <td>0</td>\n",
       "    </tr>\n",
       "    <tr>\n",
       "      <th>1</th>\n",
       "      <td>0</td>\n",
       "      <td>0</td>\n",
       "      <td>0</td>\n",
       "      <td>0</td>\n",
       "      <td>0</td>\n",
       "      <td>0</td>\n",
       "      <td>0</td>\n",
       "      <td>0</td>\n",
       "      <td>0</td>\n",
       "      <td>0</td>\n",
       "      <td>...</td>\n",
       "      <td>0</td>\n",
       "      <td>0</td>\n",
       "      <td>0</td>\n",
       "      <td>0</td>\n",
       "      <td>0</td>\n",
       "      <td>0</td>\n",
       "      <td>0</td>\n",
       "      <td>0</td>\n",
       "      <td>0</td>\n",
       "      <td>0</td>\n",
       "    </tr>\n",
       "    <tr>\n",
       "      <th>2</th>\n",
       "      <td>0</td>\n",
       "      <td>0</td>\n",
       "      <td>0</td>\n",
       "      <td>0</td>\n",
       "      <td>0</td>\n",
       "      <td>0</td>\n",
       "      <td>0</td>\n",
       "      <td>0</td>\n",
       "      <td>0</td>\n",
       "      <td>0</td>\n",
       "      <td>...</td>\n",
       "      <td>0</td>\n",
       "      <td>0</td>\n",
       "      <td>0</td>\n",
       "      <td>0</td>\n",
       "      <td>0</td>\n",
       "      <td>0</td>\n",
       "      <td>0</td>\n",
       "      <td>0</td>\n",
       "      <td>0</td>\n",
       "      <td>0</td>\n",
       "    </tr>\n",
       "    <tr>\n",
       "      <th>3</th>\n",
       "      <td>0</td>\n",
       "      <td>0</td>\n",
       "      <td>0</td>\n",
       "      <td>0</td>\n",
       "      <td>0</td>\n",
       "      <td>0</td>\n",
       "      <td>0</td>\n",
       "      <td>0</td>\n",
       "      <td>0</td>\n",
       "      <td>0</td>\n",
       "      <td>...</td>\n",
       "      <td>0</td>\n",
       "      <td>0</td>\n",
       "      <td>0</td>\n",
       "      <td>0</td>\n",
       "      <td>0</td>\n",
       "      <td>0</td>\n",
       "      <td>0</td>\n",
       "      <td>0</td>\n",
       "      <td>0</td>\n",
       "      <td>0</td>\n",
       "    </tr>\n",
       "    <tr>\n",
       "      <th>4</th>\n",
       "      <td>0</td>\n",
       "      <td>0</td>\n",
       "      <td>0</td>\n",
       "      <td>0</td>\n",
       "      <td>0</td>\n",
       "      <td>0</td>\n",
       "      <td>0</td>\n",
       "      <td>0</td>\n",
       "      <td>0</td>\n",
       "      <td>0</td>\n",
       "      <td>...</td>\n",
       "      <td>0</td>\n",
       "      <td>0</td>\n",
       "      <td>0</td>\n",
       "      <td>0</td>\n",
       "      <td>0</td>\n",
       "      <td>0</td>\n",
       "      <td>0</td>\n",
       "      <td>0</td>\n",
       "      <td>0</td>\n",
       "      <td>0</td>\n",
       "    </tr>\n",
       "    <tr>\n",
       "      <th>...</th>\n",
       "      <td>...</td>\n",
       "      <td>...</td>\n",
       "      <td>...</td>\n",
       "      <td>...</td>\n",
       "      <td>...</td>\n",
       "      <td>...</td>\n",
       "      <td>...</td>\n",
       "      <td>...</td>\n",
       "      <td>...</td>\n",
       "      <td>...</td>\n",
       "      <td>...</td>\n",
       "      <td>...</td>\n",
       "      <td>...</td>\n",
       "      <td>...</td>\n",
       "      <td>...</td>\n",
       "      <td>...</td>\n",
       "      <td>...</td>\n",
       "      <td>...</td>\n",
       "      <td>...</td>\n",
       "      <td>...</td>\n",
       "      <td>...</td>\n",
       "    </tr>\n",
       "    <tr>\n",
       "      <th>115</th>\n",
       "      <td>0</td>\n",
       "      <td>0</td>\n",
       "      <td>0</td>\n",
       "      <td>0</td>\n",
       "      <td>0</td>\n",
       "      <td>0</td>\n",
       "      <td>1</td>\n",
       "      <td>0</td>\n",
       "      <td>0</td>\n",
       "      <td>0</td>\n",
       "      <td>...</td>\n",
       "      <td>0</td>\n",
       "      <td>0</td>\n",
       "      <td>0</td>\n",
       "      <td>0</td>\n",
       "      <td>0</td>\n",
       "      <td>0</td>\n",
       "      <td>0</td>\n",
       "      <td>0</td>\n",
       "      <td>0</td>\n",
       "      <td>0</td>\n",
       "    </tr>\n",
       "    <tr>\n",
       "      <th>116</th>\n",
       "      <td>0</td>\n",
       "      <td>0</td>\n",
       "      <td>0</td>\n",
       "      <td>0</td>\n",
       "      <td>0</td>\n",
       "      <td>0</td>\n",
       "      <td>0</td>\n",
       "      <td>0</td>\n",
       "      <td>0</td>\n",
       "      <td>0</td>\n",
       "      <td>...</td>\n",
       "      <td>0</td>\n",
       "      <td>0</td>\n",
       "      <td>0</td>\n",
       "      <td>0</td>\n",
       "      <td>0</td>\n",
       "      <td>0</td>\n",
       "      <td>0</td>\n",
       "      <td>0</td>\n",
       "      <td>0</td>\n",
       "      <td>0</td>\n",
       "    </tr>\n",
       "    <tr>\n",
       "      <th>117</th>\n",
       "      <td>0</td>\n",
       "      <td>0</td>\n",
       "      <td>0</td>\n",
       "      <td>0</td>\n",
       "      <td>0</td>\n",
       "      <td>0</td>\n",
       "      <td>1</td>\n",
       "      <td>0</td>\n",
       "      <td>0</td>\n",
       "      <td>0</td>\n",
       "      <td>...</td>\n",
       "      <td>0</td>\n",
       "      <td>0</td>\n",
       "      <td>0</td>\n",
       "      <td>0</td>\n",
       "      <td>0</td>\n",
       "      <td>0</td>\n",
       "      <td>0</td>\n",
       "      <td>0</td>\n",
       "      <td>0</td>\n",
       "      <td>0</td>\n",
       "    </tr>\n",
       "    <tr>\n",
       "      <th>118</th>\n",
       "      <td>0</td>\n",
       "      <td>0</td>\n",
       "      <td>0</td>\n",
       "      <td>0</td>\n",
       "      <td>0</td>\n",
       "      <td>0</td>\n",
       "      <td>1</td>\n",
       "      <td>0</td>\n",
       "      <td>0</td>\n",
       "      <td>0</td>\n",
       "      <td>...</td>\n",
       "      <td>0</td>\n",
       "      <td>0</td>\n",
       "      <td>0</td>\n",
       "      <td>0</td>\n",
       "      <td>0</td>\n",
       "      <td>0</td>\n",
       "      <td>0</td>\n",
       "      <td>0</td>\n",
       "      <td>0</td>\n",
       "      <td>0</td>\n",
       "    </tr>\n",
       "    <tr>\n",
       "      <th>119</th>\n",
       "      <td>0</td>\n",
       "      <td>0</td>\n",
       "      <td>0</td>\n",
       "      <td>0</td>\n",
       "      <td>0</td>\n",
       "      <td>0</td>\n",
       "      <td>1</td>\n",
       "      <td>0</td>\n",
       "      <td>0</td>\n",
       "      <td>0</td>\n",
       "      <td>...</td>\n",
       "      <td>0</td>\n",
       "      <td>0</td>\n",
       "      <td>0</td>\n",
       "      <td>0</td>\n",
       "      <td>0</td>\n",
       "      <td>0</td>\n",
       "      <td>0</td>\n",
       "      <td>0</td>\n",
       "      <td>0</td>\n",
       "      <td>0</td>\n",
       "    </tr>\n",
       "  </tbody>\n",
       "</table>\n",
       "<p>120 rows × 5672 columns</p>\n",
       "</div>"
      ],
      "text/plain": [
       "    0000 000000 00085 002 003 00450 0089 009 01 01000u  ... õôõôèõéï ö¹ öð  \\\n",
       "0      0      0     0   0   0     0    0   0  0      0  ...        0  0  0   \n",
       "1      0      0     0   0   0     0    0   0  0      0  ...        0  0  0   \n",
       "2      0      0     0   0   0     0    0   0  0      0  ...        0  0  0   \n",
       "3      0      0     0   0   0     0    0   0  0      0  ...        0  0  0   \n",
       "4      0      0     0   0   0     0    0   0  0      0  ...        0  0  0   \n",
       "..   ...    ...   ...  ..  ..   ...  ...  .. ..    ...  ...      ... .. ..   \n",
       "115    0      0     0   0   0     0    1   0  0      0  ...        0  0  0   \n",
       "116    0      0     0   0   0     0    0   0  0      0  ...        0  0  0   \n",
       "117    0      0     0   0   0     0    1   0  0      0  ...        0  0  0   \n",
       "118    0      0     0   0   0     0    1   0  0      0  ...        0  0  0   \n",
       "119    0      0     0   0   0     0    1   0  0      0  ...        0  0  0   \n",
       "\n",
       "    öôööµæ öø³ðåµ öþ öˆ úàí þîñòµ¼ šè  \n",
       "0        0      0  0  0   0      0  0  \n",
       "1        0      0  0  0   0      0  0  \n",
       "2        0      0  0  0   0      0  0  \n",
       "3        0      0  0  0   0      0  0  \n",
       "4        0      0  0  0   0      0  0  \n",
       "..     ...    ... .. ..  ..    ... ..  \n",
       "115      0      0  0  0   0      0  0  \n",
       "116      0      0  0  0   0      0  0  \n",
       "117      0      0  0  0   0      0  0  \n",
       "118      0      0  0  0   0      0  0  \n",
       "119      0      0  0  0   0      0  0  \n",
       "\n",
       "[120 rows x 5672 columns]"
      ]
     },
     "execution_count": 132,
     "metadata": {},
     "output_type": "execute_result"
    }
   ],
   "source": [
    "import pandas as pd\n",
    "pd.DataFrame(X_train.toarray(), columns =[vectorizer.get_feature_names_out()])"
   ]
  },
  {
   "cell_type": "markdown",
   "id": "8511a531-23d7-4c27-86ee-643bd97b254d",
   "metadata": {},
   "source": [
    "**1. Entrenamiento del algoritmo de regresión logística**"
   ]
  },
  {
   "cell_type": "code",
   "execution_count": 138,
   "id": "d54e21e7-d9d1-44e7-be25-832513d3a09e",
   "metadata": {},
   "outputs": [
    {
     "data": {
      "text/plain": [
       "LogisticRegression()"
      ]
     },
     "execution_count": 138,
     "metadata": {},
     "output_type": "execute_result"
    }
   ],
   "source": [
    "#Con el conjunto de datos preparados\n",
    "from sklearn.linear_model import LogisticRegression\n",
    "clf = LogisticRegression()\n",
    "clf.fit(X_train,y_train) #Crea el modelo"
   ]
  },
  {
   "cell_type": "markdown",
   "id": "01153b1b-ddda-4fc0-89af-338f3c41b550",
   "metadata": {},
   "source": [
    "**2. Predicción**"
   ]
  },
  {
   "cell_type": "code",
   "execution_count": 144,
   "id": "03058376-9373-4da6-9a22-acfdc4f76e08",
   "metadata": {},
   "outputs": [],
   "source": [
    "X, Y = create_prep_dataset(\"datasets\\\\datasets\\\\trec07p\\\\full\\\\index\",120)\n",
    "X_test = X[100:]\n",
    "Y_test = Y[100:]\n",
    "#Vectorizamos\n",
    "X_test = vectorizer.transform(X_test)\n",
    "#predicción\n",
    "y_pred = clf.predict(X_test)\n",
    "#y_pred"
   ]
  },
  {
   "cell_type": "code",
   "execution_count": null,
   "id": "c0d3ec6c-a197-45e3-84ae-a0fa10e2de37",
   "metadata": {},
   "outputs": [],
   "source": [
    "#Y_test"
   ]
  },
  {
   "cell_type": "code",
   "execution_count": 145,
   "id": "a77712a9-e1a0-4d42-b2d4-e2c52f0e542a",
   "metadata": {},
   "outputs": [
    {
     "name": "stdout",
     "output_type": "stream",
     "text": [
      "Accuracy: 1.000\n"
     ]
    }
   ],
   "source": [
    "from sklearn.metrics import accuracy_score\n",
    "print(\"Accuracy: {:.3f}\".format(accuracy_score(Y_test,y_pred)))"
   ]
  },
  {
   "cell_type": "code",
   "execution_count": null,
   "id": "af982edc-a6e0-4f04-9b0b-7902666bc21a",
   "metadata": {},
   "outputs": [],
   "source": []
  },
  {
   "cell_type": "code",
   "execution_count": null,
   "id": "dbf1a636-2139-441c-b66e-01720c363a40",
   "metadata": {},
   "outputs": [],
   "source": []
  },
  {
   "cell_type": "code",
   "execution_count": null,
   "id": "ccf72158-eeff-4903-bcaf-b6ac4a514a5c",
   "metadata": {},
   "outputs": [],
   "source": []
  }
 ],
 "metadata": {
  "kernelspec": {
   "display_name": "Python 3 (ipykernel)",
   "language": "python",
   "name": "python3"
  },
  "language_info": {
   "codemirror_mode": {
    "name": "ipython",
    "version": 3
   },
   "file_extension": ".py",
   "mimetype": "text/x-python",
   "name": "python",
   "nbconvert_exporter": "python",
   "pygments_lexer": "ipython3",
   "version": "3.9.13"
  }
 },
 "nbformat": 4,
 "nbformat_minor": 5
}
